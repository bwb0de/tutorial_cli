{
 "cells": [
  {
   "cell_type": "markdown",
   "metadata": {},
   "source": [
    "# Importanto código mínimo para trabalhar"
   ]
  },
  {
   "cell_type": "code",
   "execution_count": 9,
   "metadata": {},
   "outputs": [],
   "source": [
    "import csv\n",
    "from collections import Counter "
   ]
  },
  {
   "cell_type": "markdown",
   "metadata": {},
   "source": [
    "## Acessando informações do arquivo CSV"
   ]
  },
  {
   "cell_type": "code",
   "execution_count": 10,
   "metadata": {},
   "outputs": [],
   "source": [
    "#Indicando o local do arquivo de dados e atribuindo um nome a ele...\n",
    "dados = open(\"dados_aes_unb.csv\")\n",
    "\n",
    "#Utilizando o módulo CSV para oranizar as linhas do arquivo como um dicionário.\n",
    "#  - 'delimiter' indica o caractere separdor das colunas no arquivo, em geral usa-se ','  ou ';', no exemplo, '\\t'\n",
    "linhas = csv.DictReader(dados, delimiter=\"\\t\")\n",
    "\n",
    "#A variável 'linhas' agora é um tipo de iterador que possui alguns atributos\n",
    "#  - 'linhas.fieldnames' mostrará o nome das colunas no arquivo"
   ]
  },
  {
   "cell_type": "markdown",
   "metadata": {},
   "source": [
    "## Verificando o nome das colunas"
   ]
  },
  {
   "cell_type": "code",
   "execution_count": 11,
   "metadata": {},
   "outputs": [
    {
     "data": {
      "text/plain": [
       "['periodo_estudo',\n",
       " 'motivos',\n",
       " 'curso_nivel',\n",
       " 'curso_nome',\n",
       " 'campus',\n",
       " 'periodo_ingresso_unb',\n",
       " 'forma_ingresso',\n",
       " 'sexo',\n",
       " 'isencao_vestibular',\n",
       " 'teve_abatimento',\n",
       " 'cor',\n",
       " 'escola_em_tipo',\n",
       " 'escola_em_nome',\n",
       " 'escola_em_cidade',\n",
       " 'escola_em_uf',\n",
       " 'fez_pre_vestibular',\n",
       " 'faz_outro_curso_superior',\n",
       " 'fez_outro_curso_superior',\n",
       " 'situacao_prof_corrente',\n",
       " 'situacao_prof_anterior',\n",
       " 'contribui_p_rendafam',\n",
       " 'CIDADE_MORADIA_SAE',\n",
       " 'Localidade',\n",
       " 'DF-1/2016',\n",
       " 'DF-2/2016',\n",
       " 'DF-1/2017',\n",
       " 'DF-2/2017',\n",
       " 'Entorno-1/2016',\n",
       " 'Entorno-2/2016',\n",
       " 'Entorno-1/2017',\n",
       " 'Entorno-2/2017',\n",
       " 'Outros-1/2016',\n",
       " 'Outros-2/2016',\n",
       " 'Outros-1/2017',\n",
       " 'Outros-2/2017',\n",
       " 'F do DF e Entorno-1/2016',\n",
       " 'F do DF e Entorno-2/2016',\n",
       " 'F do DF e Entorno-1/2017',\n",
       " 'F do DF e Entorno-2/2017 ',\n",
       " 'com_quem_reside',\n",
       " 'situacao_residencia_familia',\n",
       " 'estado_civil_estudante',\n",
       " 'pai_situacao',\n",
       " 'pai_cpf',\n",
       " 'pai_cidade',\n",
       " 'pai_endereco',\n",
       " 'pai_endereco_uf',\n",
       " 'pai_escolaridade',\n",
       " 'pai_profissao',\n",
       " 'mae_situacao',\n",
       " 'mae_cidade',\n",
       " 'mae_endereco',\n",
       " 'mae_endereco_uf',\n",
       " 'mae_escolaridade',\n",
       " 'mae_profissao',\n",
       " 'transporte_usado',\n",
       " 'justificativa']"
      ]
     },
     "execution_count": 11,
     "metadata": {},
     "output_type": "execute_result"
    }
   ],
   "source": [
    "linhas.fieldnames"
   ]
  },
  {
   "cell_type": "markdown",
   "metadata": {},
   "source": [
    "## Criando contadores"
   ]
  },
  {
   "cell_type": "code",
   "execution_count": 12,
   "metadata": {},
   "outputs": [],
   "source": [
    "total_por_localidade = Counter()\n",
    "total_por_periodo_e_localidade = Counter()\n",
    "total = 0"
   ]
  },
  {
   "cell_type": "markdown",
   "metadata": {},
   "source": [
    "## Lendo as linhas "
   ]
  },
  {
   "cell_type": "code",
   "execution_count": 13,
   "metadata": {},
   "outputs": [],
   "source": [
    "#O loop passará linha à linha e elas serão processadas conforme as regras estabelecidas\n",
    "for linha in linhas:\n",
    "    \n",
    "    #A primeira coisa a ser feita é contar a linha, incrementando a variável total\n",
    "    total += 1\n",
    "    \n",
    "    #\n",
    "    #Agora realizamos a contagem conforme o valor encontrado no campo específico\n",
    "    #  - o método 'update' incrementa o valor de um determinado campo caso ele já tenha sido contado\n",
    "    #    uma vez. Caso contrário ele inicia um contador para aquele valor.\n",
    "    #\n",
    "    #  - o valor a ser inserido no 'update' pode ser uma combinação dos valores encontrados nos campos\n",
    "    #    dessa forma é possível realizar o cruzamento de informações\n",
    "    #\n",
    "    \n",
    "    total_por_localidade.update([linha[\"Localidade\"]])\n",
    "    total_por_periodo_e_localidade.update([linha[\"Localidade\"] + ' ' + linha['periodo_estudo']])"
   ]
  },
  {
   "cell_type": "markdown",
   "metadata": {},
   "source": [
    "## Imprimindo resultados"
   ]
  },
  {
   "cell_type": "code",
   "execution_count": 15,
   "metadata": {},
   "outputs": [
    {
     "name": "stdout",
     "output_type": "stream",
     "text": [
      "Total: 8274\n",
      "\n",
      "\n",
      "\n",
      "Total por localidade: Counter({'DF': 7004, 'Entorno ': 1058, 'Entorno': 154, 'Fora do DF e Entorno ': 32, 'Outros': 16, 'Fora do DF e Entorno': 3, 'Outro': 2, 'DF ': 2, 'GO': 1, 'Outro ': 1, 'For a do DF e Entorno ': 1})\n",
      "\n",
      "\n",
      "\n",
      "Total por período e localidade: Counter({'DF 1/2017': 2256, 'DF 2/2016': 1750, 'DF 1/2016': 1535, 'DF 2/2017': 1463, 'Entorno  2/2016': 340, 'Entorno  1/2017': 307, 'Entorno  2/2017': 211, 'Entorno  1/2016': 200, 'Entorno 1/2017': 47, 'Entorno 2/2017': 42, 'Entorno 2/2016': 33, 'Entorno 1/2016': 32, 'Fora do DF e Entorno  1/2017': 10, 'Fora do DF e Entorno  2/2016': 9, 'Fora do DF e Entorno  2/2017': 9, 'Outros 1/2017': 5, 'Outros 2/2017': 5, 'Outros 1/2016': 4, 'Fora do DF e Entorno  1/2016': 4, 'Fora do DF e Entorno 1/2017': 3, 'Outros 2/2016': 2, 'Outro  1/2017': 1, 'For a do DF e Entorno  1/2017': 1, 'DF  2/2016': 1, 'DF  1/2016': 1, 'Outro 2/2016': 1, 'GO 2/2016': 1, 'Outro 1/2017': 1})\n"
     ]
    }
   ],
   "source": [
    "print(\"Total:\", total)\n",
    "\n",
    "print('\\n\\n') # Adicionando quebras de linha para melhor vizualização\n",
    "\n",
    "print(\"Total por localidade:\", total_por_localidade)\n",
    "\n",
    "print('\\n\\n')\n",
    "\n",
    "print(\"Total por período e localidade:\", total_por_periodo_e_localidade)\n"
   ]
  }
 ],
 "metadata": {
  "kernelspec": {
   "display_name": "Python 3",
   "language": "python",
   "name": "python3"
  },
  "language_info": {
   "codemirror_mode": {
    "name": "ipython",
    "version": 3
   },
   "file_extension": ".py",
   "mimetype": "text/x-python",
   "name": "python",
   "nbconvert_exporter": "python",
   "pygments_lexer": "ipython3",
   "version": "3.5.3"
  }
 },
 "nbformat": 4,
 "nbformat_minor": 2
}
